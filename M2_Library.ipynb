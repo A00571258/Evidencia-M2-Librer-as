{
 "cells": [
  {
   "cell_type": "markdown",
   "id": "29b162c0",
   "metadata": {},
   "source": [
    "# Evidencia Módulo 2: Uso de framework o biblioteca de aprendizaje máquina para la implementación de una solución.\n",
    "*Portafolio de Implementación*\n",
    "Estudiante: Camila Cusicanqui A00571258\n",
    "Clase: Inteligencia artificial avanzada para la ciencia de datos I - Gpo 101\n",
    "Fecha: 18 de septiembre de 2022"
   ]
  },
  {
   "cell_type": "markdown",
   "id": "7ae52312",
   "metadata": {},
   "source": [
    "La evidencia del módulo 2 nos pide utilizar un framework o biblioteca de aprendizaje máquina para la implementación de una solución.\n",
    "\n",
    "Para realizar lo mencionado, hicimos lo siguiente:\n",
    "* Crear un repositorio de GitHub para este proyecto.\n",
    "* Programar uno de los algoritmos vistos en el módulo (o que tu profesor de módulo autorice) haciendo uso de una biblioteca o framework de aprendizaje máquina.\n",
    "* Prueba tu implementación con un set de datos y realiza algunas predicciones. Las predicciones las puedes correr en consola o las puedes implementar con una interfaz gráfica apoyándote en los visto en otros módulos.\n",
    "* Tu implementación debe de poder correr por separado solamente con un compilador, no debe de depender de un IDE o de un “notebook”. Por ejemplo, si programas en Python, tu implementación final se espera que esté en un archivo .py no en un Jupyter Notebook.\n",
    "\n",
    "Nuestro objetivo es crear un modelo de aprendizaje de máquina que predice cuáles pasajeros sobreviven el hundimiento del Titanic. El dataset utilizado proviene de Kaggle y se encuentra en: https://www.kaggle.com/c/titanic."
   ]
  },
  {
   "cell_type": "code",
   "execution_count": 303,
   "id": "f500e790",
   "metadata": {},
   "outputs": [],
   "source": [
    "# LIBRERÍAS\n",
    "import pandas as pd\n",
    "import seaborn as sns\n",
    "import numpy as np\n",
    "import matplotlib.pyplot as plt\n",
    "# ML\n",
    "import graphviz\n",
    "from sklearn import ensemble\n",
    "from sklearn.ensemble import RandomForestClassifier\n",
    "from sklearn.model_selection import train_test_split\n",
    "from sklearn.metrics import accuracy_score, f1_score\n",
    "from sklearn.model_selection import learning_curve\n",
    "from sklearn.metrics import confusion_matrix\n",
    "from sklearn.model_selection import cross_val_predict"
   ]
  },
  {
   "cell_type": "markdown",
   "id": "8e81c8d0",
   "metadata": {},
   "source": [
    "# Exploración del set de datos\n",
    "En está sección revisaremos el tipo de variables que tenemos y sus características y patrones relevantes.\n",
    "\n",
    "Importamos los datos. "
   ]
  },
  {
   "cell_type": "code",
   "execution_count": 304,
   "id": "cad9f9df",
   "metadata": {},
   "outputs": [],
   "source": [
    "df = pd.read_csv('train.csv',index_col = \"PassengerId\")"
   ]
  },
  {
   "cell_type": "markdown",
   "id": "47d7b0ed",
   "metadata": {},
   "source": [
    "Visualizamos el dataframe. "
   ]
  },
  {
   "cell_type": "code",
   "execution_count": 305,
   "id": "fabaedc9",
   "metadata": {},
   "outputs": [
    {
     "data": {
      "text/html": [
       "<div>\n",
       "<style scoped>\n",
       "    .dataframe tbody tr th:only-of-type {\n",
       "        vertical-align: middle;\n",
       "    }\n",
       "\n",
       "    .dataframe tbody tr th {\n",
       "        vertical-align: top;\n",
       "    }\n",
       "\n",
       "    .dataframe thead th {\n",
       "        text-align: right;\n",
       "    }\n",
       "</style>\n",
       "<table border=\"1\" class=\"dataframe\">\n",
       "  <thead>\n",
       "    <tr style=\"text-align: right;\">\n",
       "      <th></th>\n",
       "      <th>Survived</th>\n",
       "      <th>Pclass</th>\n",
       "      <th>Name</th>\n",
       "      <th>Sex</th>\n",
       "      <th>Age</th>\n",
       "      <th>SibSp</th>\n",
       "      <th>Parch</th>\n",
       "      <th>Ticket</th>\n",
       "      <th>Fare</th>\n",
       "      <th>Cabin</th>\n",
       "      <th>Embarked</th>\n",
       "    </tr>\n",
       "    <tr>\n",
       "      <th>PassengerId</th>\n",
       "      <th></th>\n",
       "      <th></th>\n",
       "      <th></th>\n",
       "      <th></th>\n",
       "      <th></th>\n",
       "      <th></th>\n",
       "      <th></th>\n",
       "      <th></th>\n",
       "      <th></th>\n",
       "      <th></th>\n",
       "      <th></th>\n",
       "    </tr>\n",
       "  </thead>\n",
       "  <tbody>\n",
       "    <tr>\n",
       "      <th>1</th>\n",
       "      <td>0</td>\n",
       "      <td>3</td>\n",
       "      <td>Braund, Mr. Owen Harris</td>\n",
       "      <td>male</td>\n",
       "      <td>22.0</td>\n",
       "      <td>1</td>\n",
       "      <td>0</td>\n",
       "      <td>A/5 21171</td>\n",
       "      <td>7.2500</td>\n",
       "      <td>NaN</td>\n",
       "      <td>S</td>\n",
       "    </tr>\n",
       "    <tr>\n",
       "      <th>2</th>\n",
       "      <td>1</td>\n",
       "      <td>1</td>\n",
       "      <td>Cumings, Mrs. John Bradley (Florence Briggs Th...</td>\n",
       "      <td>female</td>\n",
       "      <td>38.0</td>\n",
       "      <td>1</td>\n",
       "      <td>0</td>\n",
       "      <td>PC 17599</td>\n",
       "      <td>71.2833</td>\n",
       "      <td>C85</td>\n",
       "      <td>C</td>\n",
       "    </tr>\n",
       "    <tr>\n",
       "      <th>3</th>\n",
       "      <td>1</td>\n",
       "      <td>3</td>\n",
       "      <td>Heikkinen, Miss. Laina</td>\n",
       "      <td>female</td>\n",
       "      <td>26.0</td>\n",
       "      <td>0</td>\n",
       "      <td>0</td>\n",
       "      <td>STON/O2. 3101282</td>\n",
       "      <td>7.9250</td>\n",
       "      <td>NaN</td>\n",
       "      <td>S</td>\n",
       "    </tr>\n",
       "    <tr>\n",
       "      <th>4</th>\n",
       "      <td>1</td>\n",
       "      <td>1</td>\n",
       "      <td>Futrelle, Mrs. Jacques Heath (Lily May Peel)</td>\n",
       "      <td>female</td>\n",
       "      <td>35.0</td>\n",
       "      <td>1</td>\n",
       "      <td>0</td>\n",
       "      <td>113803</td>\n",
       "      <td>53.1000</td>\n",
       "      <td>C123</td>\n",
       "      <td>S</td>\n",
       "    </tr>\n",
       "    <tr>\n",
       "      <th>5</th>\n",
       "      <td>0</td>\n",
       "      <td>3</td>\n",
       "      <td>Allen, Mr. William Henry</td>\n",
       "      <td>male</td>\n",
       "      <td>35.0</td>\n",
       "      <td>0</td>\n",
       "      <td>0</td>\n",
       "      <td>373450</td>\n",
       "      <td>8.0500</td>\n",
       "      <td>NaN</td>\n",
       "      <td>S</td>\n",
       "    </tr>\n",
       "  </tbody>\n",
       "</table>\n",
       "</div>"
      ],
      "text/plain": [
       "             Survived  Pclass  \\\n",
       "PassengerId                     \n",
       "1                   0       3   \n",
       "2                   1       1   \n",
       "3                   1       3   \n",
       "4                   1       1   \n",
       "5                   0       3   \n",
       "\n",
       "                                                          Name     Sex   Age  \\\n",
       "PassengerId                                                                    \n",
       "1                                      Braund, Mr. Owen Harris    male  22.0   \n",
       "2            Cumings, Mrs. John Bradley (Florence Briggs Th...  female  38.0   \n",
       "3                                       Heikkinen, Miss. Laina  female  26.0   \n",
       "4                 Futrelle, Mrs. Jacques Heath (Lily May Peel)  female  35.0   \n",
       "5                                     Allen, Mr. William Henry    male  35.0   \n",
       "\n",
       "             SibSp  Parch            Ticket     Fare Cabin Embarked  \n",
       "PassengerId                                                          \n",
       "1                1      0         A/5 21171   7.2500   NaN        S  \n",
       "2                1      0          PC 17599  71.2833   C85        C  \n",
       "3                0      0  STON/O2. 3101282   7.9250   NaN        S  \n",
       "4                1      0            113803  53.1000  C123        S  \n",
       "5                0      0            373450   8.0500   NaN        S  "
      ]
     },
     "execution_count": 305,
     "metadata": {},
     "output_type": "execute_result"
    }
   ],
   "source": [
    "df.head()"
   ]
  },
  {
   "cell_type": "markdown",
   "id": "637383e5",
   "metadata": {},
   "source": [
    "Observamos el tamaño de la muestra y la cantidad de NaNs en nuestros datos. "
   ]
  },
  {
   "cell_type": "code",
   "execution_count": 306,
   "id": "c8b9a219",
   "metadata": {},
   "outputs": [
    {
     "data": {
      "text/plain": [
       "(891, 11)"
      ]
     },
     "execution_count": 306,
     "metadata": {},
     "output_type": "execute_result"
    }
   ],
   "source": [
    "df.shape"
   ]
  },
  {
   "cell_type": "code",
   "execution_count": 307,
   "id": "314b99a0",
   "metadata": {},
   "outputs": [
    {
     "data": {
      "text/plain": [
       "Survived      0\n",
       "Pclass        0\n",
       "Name          0\n",
       "Sex           0\n",
       "Age         177\n",
       "SibSp         0\n",
       "Parch         0\n",
       "Ticket        0\n",
       "Fare          0\n",
       "Cabin       687\n",
       "Embarked      2\n",
       "dtype: int64"
      ]
     },
     "execution_count": 307,
     "metadata": {},
     "output_type": "execute_result"
    }
   ],
   "source": [
    "df.isna().sum()"
   ]
  },
  {
   "cell_type": "markdown",
   "id": "cd7ba7dd",
   "metadata": {},
   "source": [
    "El variable de las cabañas tiene demasiado NaNs, por lo tanto, lo elimaremos. Igual quitamos el variable de embarked porque también tiene NaNs.Como solamente son dos y nuestro tamaño de muestra es considerable, eliminaremos los renglones \n",
    "La variable de la edad tiene 177 NaNs, la mejor opción es quitarlos ya que el factor de la edad si es muy relevante para nuestro modelo. "
   ]
  },
  {
   "cell_type": "code",
   "execution_count": 308,
   "id": "286a6421",
   "metadata": {},
   "outputs": [],
   "source": [
    "df = df.drop('Cabin',axis=1)\n",
    "df = df.dropna()"
   ]
  },
  {
   "cell_type": "code",
   "execution_count": 309,
   "id": "2f38a24c",
   "metadata": {},
   "outputs": [
    {
     "data": {
      "text/plain": [
       "Survived    0\n",
       "Pclass      0\n",
       "Name        0\n",
       "Sex         0\n",
       "Age         0\n",
       "SibSp       0\n",
       "Parch       0\n",
       "Ticket      0\n",
       "Fare        0\n",
       "Embarked    0\n",
       "dtype: int64"
      ]
     },
     "execution_count": 309,
     "metadata": {},
     "output_type": "execute_result"
    }
   ],
   "source": [
    "#Contamos los NaNs\n",
    "df.isna().sum()"
   ]
  },
  {
   "cell_type": "code",
   "execution_count": 310,
   "id": "725ad50c",
   "metadata": {},
   "outputs": [
    {
     "data": {
      "text/plain": [
       "(712, 10)"
      ]
     },
     "execution_count": 310,
     "metadata": {},
     "output_type": "execute_result"
    }
   ],
   "source": [
    "# Vemos el cambio en nuestro tamaño de muestra\n",
    "df.shape"
   ]
  },
  {
   "cell_type": "markdown",
   "id": "f1a853b4",
   "metadata": {},
   "source": [
    "## 1ra etapa de filtración de datos\n",
    "Visualizamos nuestra tabla del data set con la primera etapa de filtraje. "
   ]
  },
  {
   "cell_type": "code",
   "execution_count": 311,
   "id": "eee5377c",
   "metadata": {},
   "outputs": [
    {
     "data": {
      "text/html": [
       "<div>\n",
       "<style scoped>\n",
       "    .dataframe tbody tr th:only-of-type {\n",
       "        vertical-align: middle;\n",
       "    }\n",
       "\n",
       "    .dataframe tbody tr th {\n",
       "        vertical-align: top;\n",
       "    }\n",
       "\n",
       "    .dataframe thead th {\n",
       "        text-align: right;\n",
       "    }\n",
       "</style>\n",
       "<table border=\"1\" class=\"dataframe\">\n",
       "  <thead>\n",
       "    <tr style=\"text-align: right;\">\n",
       "      <th></th>\n",
       "      <th>Survived</th>\n",
       "      <th>Pclass</th>\n",
       "      <th>Name</th>\n",
       "      <th>Sex</th>\n",
       "      <th>Age</th>\n",
       "      <th>SibSp</th>\n",
       "      <th>Parch</th>\n",
       "      <th>Ticket</th>\n",
       "      <th>Fare</th>\n",
       "      <th>Embarked</th>\n",
       "    </tr>\n",
       "    <tr>\n",
       "      <th>PassengerId</th>\n",
       "      <th></th>\n",
       "      <th></th>\n",
       "      <th></th>\n",
       "      <th></th>\n",
       "      <th></th>\n",
       "      <th></th>\n",
       "      <th></th>\n",
       "      <th></th>\n",
       "      <th></th>\n",
       "      <th></th>\n",
       "    </tr>\n",
       "  </thead>\n",
       "  <tbody>\n",
       "    <tr>\n",
       "      <th>1</th>\n",
       "      <td>0</td>\n",
       "      <td>3</td>\n",
       "      <td>Braund, Mr. Owen Harris</td>\n",
       "      <td>male</td>\n",
       "      <td>22.0</td>\n",
       "      <td>1</td>\n",
       "      <td>0</td>\n",
       "      <td>A/5 21171</td>\n",
       "      <td>7.2500</td>\n",
       "      <td>S</td>\n",
       "    </tr>\n",
       "    <tr>\n",
       "      <th>2</th>\n",
       "      <td>1</td>\n",
       "      <td>1</td>\n",
       "      <td>Cumings, Mrs. John Bradley (Florence Briggs Th...</td>\n",
       "      <td>female</td>\n",
       "      <td>38.0</td>\n",
       "      <td>1</td>\n",
       "      <td>0</td>\n",
       "      <td>PC 17599</td>\n",
       "      <td>71.2833</td>\n",
       "      <td>C</td>\n",
       "    </tr>\n",
       "    <tr>\n",
       "      <th>3</th>\n",
       "      <td>1</td>\n",
       "      <td>3</td>\n",
       "      <td>Heikkinen, Miss. Laina</td>\n",
       "      <td>female</td>\n",
       "      <td>26.0</td>\n",
       "      <td>0</td>\n",
       "      <td>0</td>\n",
       "      <td>STON/O2. 3101282</td>\n",
       "      <td>7.9250</td>\n",
       "      <td>S</td>\n",
       "    </tr>\n",
       "    <tr>\n",
       "      <th>4</th>\n",
       "      <td>1</td>\n",
       "      <td>1</td>\n",
       "      <td>Futrelle, Mrs. Jacques Heath (Lily May Peel)</td>\n",
       "      <td>female</td>\n",
       "      <td>35.0</td>\n",
       "      <td>1</td>\n",
       "      <td>0</td>\n",
       "      <td>113803</td>\n",
       "      <td>53.1000</td>\n",
       "      <td>S</td>\n",
       "    </tr>\n",
       "    <tr>\n",
       "      <th>5</th>\n",
       "      <td>0</td>\n",
       "      <td>3</td>\n",
       "      <td>Allen, Mr. William Henry</td>\n",
       "      <td>male</td>\n",
       "      <td>35.0</td>\n",
       "      <td>0</td>\n",
       "      <td>0</td>\n",
       "      <td>373450</td>\n",
       "      <td>8.0500</td>\n",
       "      <td>S</td>\n",
       "    </tr>\n",
       "  </tbody>\n",
       "</table>\n",
       "</div>"
      ],
      "text/plain": [
       "             Survived  Pclass  \\\n",
       "PassengerId                     \n",
       "1                   0       3   \n",
       "2                   1       1   \n",
       "3                   1       3   \n",
       "4                   1       1   \n",
       "5                   0       3   \n",
       "\n",
       "                                                          Name     Sex   Age  \\\n",
       "PassengerId                                                                    \n",
       "1                                      Braund, Mr. Owen Harris    male  22.0   \n",
       "2            Cumings, Mrs. John Bradley (Florence Briggs Th...  female  38.0   \n",
       "3                                       Heikkinen, Miss. Laina  female  26.0   \n",
       "4                 Futrelle, Mrs. Jacques Heath (Lily May Peel)  female  35.0   \n",
       "5                                     Allen, Mr. William Henry    male  35.0   \n",
       "\n",
       "             SibSp  Parch            Ticket     Fare Embarked  \n",
       "PassengerId                                                    \n",
       "1                1      0         A/5 21171   7.2500        S  \n",
       "2                1      0          PC 17599  71.2833        C  \n",
       "3                0      0  STON/O2. 3101282   7.9250        S  \n",
       "4                1      0            113803  53.1000        S  \n",
       "5                0      0            373450   8.0500        S  "
      ]
     },
     "execution_count": 311,
     "metadata": {},
     "output_type": "execute_result"
    }
   ],
   "source": [
    "df.head()"
   ]
  },
  {
   "cell_type": "markdown",
   "id": "d22ee122",
   "metadata": {},
   "source": [
    "Las variables de nombre, ticket y fare son irrelevantes para nuestro modelo, por lo tanto, los quitamos."
   ]
  },
  {
   "cell_type": "code",
   "execution_count": 312,
   "id": "41eda4d2",
   "metadata": {},
   "outputs": [],
   "source": [
    "# Datos irrelevantes\n",
    "df = df.drop(['Name','Ticket','Fare'],axis = 1)"
   ]
  },
  {
   "cell_type": "markdown",
   "id": "29866ec3",
   "metadata": {},
   "source": [
    "Para reducir las dimensiones de nuestro dataset podemos sumar la columna de los hermanos y papás ('Sibsp' y 'Parch') y eliminarlas. Si la persona fue sola se agrega 1 a esta columna.\n",
    "Realizamos esto para observar si un variable importante para la superviviencia es el tamaño de la familia aborde."
   ]
  },
  {
   "cell_type": "code",
   "execution_count": 313,
   "id": "2791a60f",
   "metadata": {},
   "outputs": [],
   "source": [
    "df['Total ppl'] = df['Parch'] + df['SibSp'] + 1\n",
    "df = df.drop(['Parch','SibSp'],axis=1)"
   ]
  },
  {
   "cell_type": "markdown",
   "id": "d9e74a89",
   "metadata": {},
   "source": [
    "## 2da etapa de filtraje de datos\n",
    "Visualizamos nuestra tabla del dataset con la segunda etapa de filtración de datos. "
   ]
  },
  {
   "cell_type": "code",
   "execution_count": 314,
   "id": "eaf2fe1d",
   "metadata": {},
   "outputs": [
    {
     "data": {
      "text/html": [
       "<div>\n",
       "<style scoped>\n",
       "    .dataframe tbody tr th:only-of-type {\n",
       "        vertical-align: middle;\n",
       "    }\n",
       "\n",
       "    .dataframe tbody tr th {\n",
       "        vertical-align: top;\n",
       "    }\n",
       "\n",
       "    .dataframe thead th {\n",
       "        text-align: right;\n",
       "    }\n",
       "</style>\n",
       "<table border=\"1\" class=\"dataframe\">\n",
       "  <thead>\n",
       "    <tr style=\"text-align: right;\">\n",
       "      <th></th>\n",
       "      <th>Survived</th>\n",
       "      <th>Pclass</th>\n",
       "      <th>Sex</th>\n",
       "      <th>Age</th>\n",
       "      <th>Embarked</th>\n",
       "      <th>Total ppl</th>\n",
       "    </tr>\n",
       "    <tr>\n",
       "      <th>PassengerId</th>\n",
       "      <th></th>\n",
       "      <th></th>\n",
       "      <th></th>\n",
       "      <th></th>\n",
       "      <th></th>\n",
       "      <th></th>\n",
       "    </tr>\n",
       "  </thead>\n",
       "  <tbody>\n",
       "    <tr>\n",
       "      <th>1</th>\n",
       "      <td>0</td>\n",
       "      <td>3</td>\n",
       "      <td>male</td>\n",
       "      <td>22.0</td>\n",
       "      <td>S</td>\n",
       "      <td>2</td>\n",
       "    </tr>\n",
       "    <tr>\n",
       "      <th>2</th>\n",
       "      <td>1</td>\n",
       "      <td>1</td>\n",
       "      <td>female</td>\n",
       "      <td>38.0</td>\n",
       "      <td>C</td>\n",
       "      <td>2</td>\n",
       "    </tr>\n",
       "    <tr>\n",
       "      <th>3</th>\n",
       "      <td>1</td>\n",
       "      <td>3</td>\n",
       "      <td>female</td>\n",
       "      <td>26.0</td>\n",
       "      <td>S</td>\n",
       "      <td>1</td>\n",
       "    </tr>\n",
       "    <tr>\n",
       "      <th>4</th>\n",
       "      <td>1</td>\n",
       "      <td>1</td>\n",
       "      <td>female</td>\n",
       "      <td>35.0</td>\n",
       "      <td>S</td>\n",
       "      <td>2</td>\n",
       "    </tr>\n",
       "    <tr>\n",
       "      <th>5</th>\n",
       "      <td>0</td>\n",
       "      <td>3</td>\n",
       "      <td>male</td>\n",
       "      <td>35.0</td>\n",
       "      <td>S</td>\n",
       "      <td>1</td>\n",
       "    </tr>\n",
       "  </tbody>\n",
       "</table>\n",
       "</div>"
      ],
      "text/plain": [
       "             Survived  Pclass     Sex   Age Embarked  Total ppl\n",
       "PassengerId                                                    \n",
       "1                   0       3    male  22.0        S          2\n",
       "2                   1       1  female  38.0        C          2\n",
       "3                   1       3  female  26.0        S          1\n",
       "4                   1       1  female  35.0        S          2\n",
       "5                   0       3    male  35.0        S          1"
      ]
     },
     "execution_count": 314,
     "metadata": {},
     "output_type": "execute_result"
    }
   ],
   "source": [
    "df.head()"
   ]
  },
  {
   "cell_type": "markdown",
   "id": "42c04a11",
   "metadata": {},
   "source": [
    "Queremos categorizar las edades ya que nuestro resultado es binario para esto debemos encontrar un rango de los edades. Posterior a esto los ponemos en sus respectivas categorías y quitamos la columna de edad."
   ]
  },
  {
   "cell_type": "code",
   "execution_count": 315,
   "id": "2b6d8040",
   "metadata": {},
   "outputs": [],
   "source": [
    "for i in df:\n",
    "    df['Age Category'] = pd.cut(df['Age'],bins=[0,5,12,18,35,60,81], \\\n",
    "                             labels = ['Bebe', 'Niño','Adolescente','Adulto Joven','Adulto Mayor','Anciano'])\n",
    "\n",
    "df=df.drop('Age',axis=1)"
   ]
  },
  {
   "cell_type": "markdown",
   "id": "67229b18",
   "metadata": {},
   "source": [
    "## 3ra etapa de filtraje de datos"
   ]
  },
  {
   "cell_type": "code",
   "execution_count": 316,
   "id": "22005f8e",
   "metadata": {},
   "outputs": [
    {
     "data": {
      "text/html": [
       "<div>\n",
       "<style scoped>\n",
       "    .dataframe tbody tr th:only-of-type {\n",
       "        vertical-align: middle;\n",
       "    }\n",
       "\n",
       "    .dataframe tbody tr th {\n",
       "        vertical-align: top;\n",
       "    }\n",
       "\n",
       "    .dataframe thead th {\n",
       "        text-align: right;\n",
       "    }\n",
       "</style>\n",
       "<table border=\"1\" class=\"dataframe\">\n",
       "  <thead>\n",
       "    <tr style=\"text-align: right;\">\n",
       "      <th></th>\n",
       "      <th>Survived</th>\n",
       "      <th>Pclass</th>\n",
       "      <th>Sex</th>\n",
       "      <th>Embarked</th>\n",
       "      <th>Total ppl</th>\n",
       "      <th>Age Category</th>\n",
       "    </tr>\n",
       "    <tr>\n",
       "      <th>PassengerId</th>\n",
       "      <th></th>\n",
       "      <th></th>\n",
       "      <th></th>\n",
       "      <th></th>\n",
       "      <th></th>\n",
       "      <th></th>\n",
       "    </tr>\n",
       "  </thead>\n",
       "  <tbody>\n",
       "    <tr>\n",
       "      <th>1</th>\n",
       "      <td>0</td>\n",
       "      <td>3</td>\n",
       "      <td>male</td>\n",
       "      <td>S</td>\n",
       "      <td>2</td>\n",
       "      <td>Adulto Joven</td>\n",
       "    </tr>\n",
       "    <tr>\n",
       "      <th>2</th>\n",
       "      <td>1</td>\n",
       "      <td>1</td>\n",
       "      <td>female</td>\n",
       "      <td>C</td>\n",
       "      <td>2</td>\n",
       "      <td>Adulto Mayor</td>\n",
       "    </tr>\n",
       "    <tr>\n",
       "      <th>3</th>\n",
       "      <td>1</td>\n",
       "      <td>3</td>\n",
       "      <td>female</td>\n",
       "      <td>S</td>\n",
       "      <td>1</td>\n",
       "      <td>Adulto Joven</td>\n",
       "    </tr>\n",
       "    <tr>\n",
       "      <th>4</th>\n",
       "      <td>1</td>\n",
       "      <td>1</td>\n",
       "      <td>female</td>\n",
       "      <td>S</td>\n",
       "      <td>2</td>\n",
       "      <td>Adulto Joven</td>\n",
       "    </tr>\n",
       "    <tr>\n",
       "      <th>5</th>\n",
       "      <td>0</td>\n",
       "      <td>3</td>\n",
       "      <td>male</td>\n",
       "      <td>S</td>\n",
       "      <td>1</td>\n",
       "      <td>Adulto Joven</td>\n",
       "    </tr>\n",
       "  </tbody>\n",
       "</table>\n",
       "</div>"
      ],
      "text/plain": [
       "             Survived  Pclass     Sex Embarked  Total ppl  Age Category\n",
       "PassengerId                                                            \n",
       "1                   0       3    male        S          2  Adulto Joven\n",
       "2                   1       1  female        C          2  Adulto Mayor\n",
       "3                   1       3  female        S          1  Adulto Joven\n",
       "4                   1       1  female        S          2  Adulto Joven\n",
       "5                   0       3    male        S          1  Adulto Joven"
      ]
     },
     "execution_count": 316,
     "metadata": {},
     "output_type": "execute_result"
    }
   ],
   "source": [
    "df.head(5)"
   ]
  },
  {
   "cell_type": "markdown",
   "id": "1a150c99",
   "metadata": {},
   "source": [
    "## Visualizar datos\n",
    "Ahora visualizaremos nuestros datos con respecto a nuestro variable objetivo. "
   ]
  },
  {
   "cell_type": "code",
   "execution_count": 317,
   "id": "7f58b017",
   "metadata": {},
   "outputs": [
    {
     "data": {
      "text/plain": [
       "<AxesSubplot:xlabel='Total ppl', ylabel='Survived'>"
      ]
     },
     "execution_count": 317,
     "metadata": {},
     "output_type": "execute_result"
    },
    {
     "data": {
      "image/png": "[encoded data removed]",
      "text/plain": [
       "<Figure size 1584x1008 with 6 Axes>"
      ]
     },
     "metadata": {
      "needs_background": "light"
     },
     "output_type": "display_data"
    }
   ],
   "source": [
    "fig, axes = plt.subplots(3, 2, figsize=(22,14))\n",
    "\n",
    "sns.barplot(x='Sex', y='Survived', data=df, ax=axes[0, 0])\n",
    "sns.barplot(x='Age Category', y='Survived', data=df, ax=axes[1, 0])\n",
    "sns.barplot(x='Pclass', y='Survived', data=df, ax=axes[2, 0])\n",
    "sns.barplot(x='Embarked', y='Survived', data=df, ax=axes[0, 1])\n",
    "sns.barplot(x='Total ppl', y='Survived', data=df, ax=axes[1, 1])"
   ]
  },
  {
   "cell_type": "markdown",
   "id": "0c693f8c",
   "metadata": {},
   "source": [
    "Para asegurarnos que no hay outliers, realizamos lo siguiente: "
   ]
  },
  {
   "cell_type": "code",
   "execution_count": 318,
   "id": "47ea99a4",
   "metadata": {},
   "outputs": [
    {
     "data": {
      "text/plain": [
       "<AxesSubplot:xlabel='PassengerId', ylabel='Total ppl'>"
      ]
     },
     "execution_count": 318,
     "metadata": {},
     "output_type": "execute_result"
    },
    {
     "data": {
      "image/png": "[encoded data removed]",
      "text/plain": [
       "<Figure size 1440x864 with 6 Axes>"
      ]
     },
     "metadata": {
      "needs_background": "light"
     },
     "output_type": "display_data"
    }
   ],
   "source": [
    "fig, axes = plt.subplots(3, 2, figsize=(20,12))\n",
    "sns.scatterplot(x='PassengerId', y='Age Category', data=df, ax=axes[0, 0])\n",
    "sns.scatterplot(x='PassengerId', y='Survived', data=df, ax=axes[1, 0])\n",
    "sns.scatterplot(x='PassengerId', y='Pclass', data=df, ax=axes[2, 0])\n",
    "sns.scatterplot(x='PassengerId', y='Sex', data=df, ax=axes[0, 1])\n",
    "sns.scatterplot(x='PassengerId', y='Embarked', data=df, ax=axes[1, 1])\n",
    "sns.scatterplot(x='PassengerId', y='Total ppl', data=df, ax=axes[2, 1])"
   ]
  },
  {
   "cell_type": "markdown",
   "id": "e7037dbb",
   "metadata": {},
   "source": [
    "Hemos realizado la clasificación de los datos ahora los convertiremos a dummies para tener un dato numérico."
   ]
  },
  {
   "cell_type": "code",
   "execution_count": 319,
   "id": "f525db6e",
   "metadata": {},
   "outputs": [],
   "source": [
    "df = pd.get_dummies(df, columns = [\"Sex\"], drop_first = False)\n",
    "df = pd.get_dummies(df, columns = [\"Age Category\"], drop_first = False)\n",
    "df = pd.get_dummies(df, columns = [\"Pclass\"], drop_first = False)\n",
    "df = pd.get_dummies(df, columns = [\"Embarked\"], drop_first = False)"
   ]
  },
  {
   "cell_type": "code",
   "execution_count": 320,
   "id": "5835a26c",
   "metadata": {},
   "outputs": [
    {
     "data": {
      "text/html": [
       "<div>\n",
       "<style scoped>\n",
       "    .dataframe tbody tr th:only-of-type {\n",
       "        vertical-align: middle;\n",
       "    }\n",
       "\n",
       "    .dataframe tbody tr th {\n",
       "        vertical-align: top;\n",
       "    }\n",
       "\n",
       "    .dataframe thead th {\n",
       "        text-align: right;\n",
       "    }\n",
       "</style>\n",
       "<table border=\"1\" class=\"dataframe\">\n",
       "  <thead>\n",
       "    <tr style=\"text-align: right;\">\n",
       "      <th></th>\n",
       "      <th>Survived</th>\n",
       "      <th>Total ppl</th>\n",
       "      <th>Sex_female</th>\n",
       "      <th>Sex_male</th>\n",
       "      <th>Age Category_Bebe</th>\n",
       "      <th>Age Category_Niño</th>\n",
       "      <th>Age Category_Adolescente</th>\n",
       "      <th>Age Category_Adulto Joven</th>\n",
       "      <th>Age Category_Adulto Mayor</th>\n",
       "      <th>Age Category_Anciano</th>\n",
       "      <th>Pclass_1</th>\n",
       "      <th>Pclass_2</th>\n",
       "      <th>Pclass_3</th>\n",
       "      <th>Embarked_C</th>\n",
       "      <th>Embarked_Q</th>\n",
       "      <th>Embarked_S</th>\n",
       "    </tr>\n",
       "    <tr>\n",
       "      <th>PassengerId</th>\n",
       "      <th></th>\n",
       "      <th></th>\n",
       "      <th></th>\n",
       "      <th></th>\n",
       "      <th></th>\n",
       "      <th></th>\n",
       "      <th></th>\n",
       "      <th></th>\n",
       "      <th></th>\n",
       "      <th></th>\n",
       "      <th></th>\n",
       "      <th></th>\n",
       "      <th></th>\n",
       "      <th></th>\n",
       "      <th></th>\n",
       "      <th></th>\n",
       "    </tr>\n",
       "  </thead>\n",
       "  <tbody>\n",
       "    <tr>\n",
       "      <th>1</th>\n",
       "      <td>0</td>\n",
       "      <td>2</td>\n",
       "      <td>0</td>\n",
       "      <td>1</td>\n",
       "      <td>0</td>\n",
       "      <td>0</td>\n",
       "      <td>0</td>\n",
       "      <td>1</td>\n",
       "      <td>0</td>\n",
       "      <td>0</td>\n",
       "      <td>0</td>\n",
       "      <td>0</td>\n",
       "      <td>1</td>\n",
       "      <td>0</td>\n",
       "      <td>0</td>\n",
       "      <td>1</td>\n",
       "    </tr>\n",
       "    <tr>\n",
       "      <th>2</th>\n",
       "      <td>1</td>\n",
       "      <td>2</td>\n",
       "      <td>1</td>\n",
       "      <td>0</td>\n",
       "      <td>0</td>\n",
       "      <td>0</td>\n",
       "      <td>0</td>\n",
       "      <td>0</td>\n",
       "      <td>1</td>\n",
       "      <td>0</td>\n",
       "      <td>1</td>\n",
       "      <td>0</td>\n",
       "      <td>0</td>\n",
       "      <td>1</td>\n",
       "      <td>0</td>\n",
       "      <td>0</td>\n",
       "    </tr>\n",
       "    <tr>\n",
       "      <th>3</th>\n",
       "      <td>1</td>\n",
       "      <td>1</td>\n",
       "      <td>1</td>\n",
       "      <td>0</td>\n",
       "      <td>0</td>\n",
       "      <td>0</td>\n",
       "      <td>0</td>\n",
       "      <td>1</td>\n",
       "      <td>0</td>\n",
       "      <td>0</td>\n",
       "      <td>0</td>\n",
       "      <td>0</td>\n",
       "      <td>1</td>\n",
       "      <td>0</td>\n",
       "      <td>0</td>\n",
       "      <td>1</td>\n",
       "    </tr>\n",
       "    <tr>\n",
       "      <th>4</th>\n",
       "      <td>1</td>\n",
       "      <td>2</td>\n",
       "      <td>1</td>\n",
       "      <td>0</td>\n",
       "      <td>0</td>\n",
       "      <td>0</td>\n",
       "      <td>0</td>\n",
       "      <td>1</td>\n",
       "      <td>0</td>\n",
       "      <td>0</td>\n",
       "      <td>1</td>\n",
       "      <td>0</td>\n",
       "      <td>0</td>\n",
       "      <td>0</td>\n",
       "      <td>0</td>\n",
       "      <td>1</td>\n",
       "    </tr>\n",
       "    <tr>\n",
       "      <th>5</th>\n",
       "      <td>0</td>\n",
       "      <td>1</td>\n",
       "      <td>0</td>\n",
       "      <td>1</td>\n",
       "      <td>0</td>\n",
       "      <td>0</td>\n",
       "      <td>0</td>\n",
       "      <td>1</td>\n",
       "      <td>0</td>\n",
       "      <td>0</td>\n",
       "      <td>0</td>\n",
       "      <td>0</td>\n",
       "      <td>1</td>\n",
       "      <td>0</td>\n",
       "      <td>0</td>\n",
       "      <td>1</td>\n",
       "    </tr>\n",
       "  </tbody>\n",
       "</table>\n",
       "</div>"
      ],
      "text/plain": [
       "             Survived  Total ppl  Sex_female  Sex_male  Age Category_Bebe  \\\n",
       "PassengerId                                                                 \n",
       "1                   0          2           0         1                  0   \n",
       "2                   1          2           1         0                  0   \n",
       "3                   1          1           1         0                  0   \n",
       "4                   1          2           1         0                  0   \n",
       "5                   0          1           0         1                  0   \n",
       "\n",
       "             Age Category_Niño  Age Category_Adolescente  \\\n",
       "PassengerId                                                \n",
       "1                            0                         0   \n",
       "2                            0                         0   \n",
       "3                            0                         0   \n",
       "4                            0                         0   \n",
       "5                            0                         0   \n",
       "\n",
       "             Age Category_Adulto Joven  Age Category_Adulto Mayor  \\\n",
       "PassengerId                                                         \n",
       "1                                    1                          0   \n",
       "2                                    0                          1   \n",
       "3                                    1                          0   \n",
       "4                                    1                          0   \n",
       "5                                    1                          0   \n",
       "\n",
       "             Age Category_Anciano  Pclass_1  Pclass_2  Pclass_3  Embarked_C  \\\n",
       "PassengerId                                                                   \n",
       "1                               0         0         0         1           0   \n",
       "2                               0         1         0         0           1   \n",
       "3                               0         0         0         1           0   \n",
       "4                               0         1         0         0           0   \n",
       "5                               0         0         0         1           0   \n",
       "\n",
       "             Embarked_Q  Embarked_S  \n",
       "PassengerId                          \n",
       "1                     0           1  \n",
       "2                     0           0  \n",
       "3                     0           1  \n",
       "4                     0           1  \n",
       "5                     0           1  "
      ]
     },
     "execution_count": 320,
     "metadata": {},
     "output_type": "execute_result"
    }
   ],
   "source": [
    "# Visualización\n",
    "df.head()"
   ]
  },
  {
   "cell_type": "markdown",
   "id": "6ca5bb0d",
   "metadata": {},
   "source": [
    "# Implementación del modelo de aprendizaje de Random Forest Classifier\n",
    "Random forest es un método de aprendizaje supervisado el cual puede ser utilizado para clasificar tareas como si un pasajero sobrevive el Titanic de acuerdo a distintas medidas como su edad y sexo. Construiremoms este clasificador utilizando SciKit Learn. "
   ]
  },
  {
   "cell_type": "markdown",
   "id": "427ecd10",
   "metadata": {},
   "source": [
    "Para construir el modelo se realiza una separación del conjunto de datos en 2 sets diferentes. El primer set se constituye en los datos de entrenamiento para el modelo. El segundo set tiene como propósito evaluar la efectividad de nuestro modelo con datos que previamente no había visto. Con esto podemos observar el desempeño de nuestro modelo."
   ]
  },
  {
   "cell_type": "code",
   "execution_count": 321,
   "id": "cd5cb23e",
   "metadata": {},
   "outputs": [],
   "source": [
    "df_y = df['Survived']# Variable objetivo\n",
    "df_x = df.drop('Survived',axis=1)"
   ]
  },
  {
   "cell_type": "markdown",
   "id": "8e46beef",
   "metadata": {},
   "source": [
    "75% de nuestro set de datos se utilizarán para entrenar y el resto (25%) se utilizará para comprobar la eficiencia del modelo. Es importante recalcar que el `random_state` se utilizó con el objetivo de realizar todo este proyecto replicable."
   ]
  },
  {
   "cell_type": "code",
   "execution_count": 322,
   "id": "3beb2401",
   "metadata": {},
   "outputs": [],
   "source": [
    "seed = 1800\n",
    "testp = 0.25\n",
    "x, x_test, y, y_test = train_test_split(df_x, df_y, test_size=testp, random_state=seed)"
   ]
  },
  {
   "cell_type": "markdown",
   "id": "b46647d5",
   "metadata": {},
   "source": [
    "Con nuestro data set dividido podemos implementar el clasificador de random forest, `n_estimators` indica la cantidad de árboles que deseamos en nuestro bosque. "
   ]
  },
  {
   "cell_type": "code",
   "execution_count": 323,
   "id": "8bf8b7e4",
   "metadata": {},
   "outputs": [
    {
     "data": {
      "text/plain": [
       "RandomForestClassifier(n_estimators=20, random_state=1800)"
      ]
     },
     "execution_count": 323,
     "metadata": {},
     "output_type": "execute_result"
    }
   ],
   "source": [
    "# Random Forest Classifier\n",
    "model = RandomForestClassifier(n_estimators = 20,random_state = seed)\n",
    "model.fit(x,y)"
   ]
  },
  {
   "cell_type": "markdown",
   "id": "11a06dce",
   "metadata": {},
   "source": [
    "# Predicciones y análisis\n",
    "Ya teniendo nuestro clasificador podemos predicir los datos utilizado nuestro set de datos de prueba. "
   ]
  },
  {
   "cell_type": "code",
   "execution_count": 324,
   "id": "7d789a83",
   "metadata": {},
   "outputs": [
    {
     "name": "stdout",
     "output_type": "stream",
     "text": [
      "[1 1 0 1 0 0 0 1 0 0 0 1 0 1 0 1 1 1 1 1 1 1 0 0 0 0 1 1 0 0 1 0 1 1 1 0 1\n",
      " 1 1 1 1 0 0 1 0 0 0 0 0 0 0 0 1 1 1 1 0 1 1 1 0 0 0 0 0 1 0 0 1 0 1 0 0 0\n",
      " 0 0 0 0 1 1 1 1 1 1 0 0 1 1 0 0 1 1 1 0 1 1 0 0 0 0 0 1 1 0 1 1 1 0 0 0 1\n",
      " 1 1 0 0 0 0 0 0 0 0 1 0 0 0 0 0 0 0 0 0 0 0 1 1 0 0 1 1 0 1 0 1 0 0 0 0 0\n",
      " 1 0 1 0 0 0 0 0 1 0 1 1 0 0 0 1 1 1 0 1 0 0 0 0 0 0 0 1 0 1]\n"
     ]
    }
   ],
   "source": [
    "y_pred = model.predict(x_test)\n",
    "print(y_pred)"
   ]
  },
  {
   "cell_type": "markdown",
   "id": "7e75b9b7",
   "metadata": {},
   "source": [
    "Obtenemos el puntaje de precisión de nuestro modelo. "
   ]
  },
  {
   "cell_type": "code",
   "execution_count": 325,
   "id": "a0420417",
   "metadata": {},
   "outputs": [
    {
     "name": "stdout",
     "output_type": "stream",
     "text": [
      "Accuracy 0.8202247191011236\n"
     ]
    }
   ],
   "source": [
    "print('Accuracy', accuracy_score(y_test,y_pred))"
   ]
  },
  {
   "cell_type": "code",
   "execution_count": 326,
   "id": "640d1509",
   "metadata": {},
   "outputs": [
    {
     "data": {
      "image/png": "[encoded data removed]",
      "text/plain": [
       "<Figure size 432x288 with 2 Axes>"
      ]
     },
     "metadata": {
      "needs_background": "light"
     },
     "output_type": "display_data"
    }
   ],
   "source": [
    "# Realizamos una matriz de confusión\n",
    "yy = cross_val_predict(model,x,y,cv=10)\n",
    "sns.heatmap(confusion_matrix(y,yy),annot = True,fmt='3.0f')\n",
    "plt.show()"
   ]
  },
  {
   "cell_type": "code",
   "execution_count": 327,
   "id": "619b0c48",
   "metadata": {},
   "outputs": [],
   "source": [
    "f1 = f1_score(y_pred,y_test)"
   ]
  },
  {
   "cell_type": "markdown",
   "id": "574ad636",
   "metadata": {},
   "source": [
    "Encontramos el f1 score de nuestro modelo para utilizar otra métrica para encontrar su precisión."
   ]
  },
  {
   "cell_type": "code",
   "execution_count": 328,
   "id": "e4f543a7",
   "metadata": {},
   "outputs": [
    {
     "data": {
      "image/png": "[encoded data removed]",
      "text/plain": [
       "<Figure size 432x288 with 1 Axes>"
      ]
     },
     "metadata": {
      "needs_background": "light"
     },
     "output_type": "display_data"
    }
   ],
   "source": [
    "# Queremos observar el learning curve de nuestro modelo \n",
    "train_sizes, train_scores, test_scores = learning_curve(model, x, y, n_jobs=-1, train_sizes=np.linspace(.1, 1.0, 5), verbose=0)\n",
    "\n",
    "train_scores_mean = np.mean(train_scores, axis=1)\n",
    "train_scores_std = np.std(train_scores, axis=1)\n",
    "test_scores_mean = np.mean(test_scores, axis=1)\n",
    "test_scores_std = np.std(test_scores, axis=1)\n",
    "    \n",
    "plt.figure()\n",
    "plt.title(\"Random Forest para la sobrevivencia del Titanic\")\n",
    "plt.xlabel(\"Training examples\")\n",
    "plt.ylabel(\"Score\")\n",
    "plt.gca().invert_yaxis()\n",
    "    \n",
    "plt.fill_between(train_sizes, train_scores_mean - train_scores_std, train_scores_mean + train_scores_std, alpha=0.1, color=\"r\")\n",
    "plt.fill_between(train_sizes, test_scores_mean - test_scores_std, test_scores_mean + test_scores_std, alpha=0.1, color=\"g\")\n",
    "\n",
    "plt.plot(train_sizes, train_scores_mean, 'o-', color=\"r\", label=\"Training score\")\n",
    "plt.plot(train_sizes, test_scores_mean, 'o-', color=\"g\", label=\"Test score\")\n",
    "plt.legend(loc=\"best\")\n",
    "    \n",
    "plt.ylim(-.1,1.1)\n",
    "plt.show()"
   ]
  },
  {
   "cell_type": "markdown",
   "id": "0d79bd3b",
   "metadata": {},
   "source": [
    "## Tabla de predicciones\n",
    "En está sección formaremos nuestra tabla de predicciones."
   ]
  },
  {
   "cell_type": "code",
   "execution_count": 329,
   "id": "61c5b67f",
   "metadata": {},
   "outputs": [],
   "source": [
    "pred_fin = pd.DataFrame(x_test)"
   ]
  },
  {
   "cell_type": "code",
   "execution_count": 330,
   "id": "2f8b2d51",
   "metadata": {},
   "outputs": [],
   "source": [
    "pred_fin = np.append(pred_fin, np.transpose(np.array([y_test])) , axis=1)\n",
    "pred_fin = np.append(pred_fin, np.transpose(np.array([y_pred])) , axis=1)"
   ]
  },
  {
   "cell_type": "code",
   "execution_count": 331,
   "id": "dd561693",
   "metadata": {},
   "outputs": [],
   "source": [
    "pred_fin = pd.DataFrame(pred_fin, columns = col, index = x_test.index.values)"
   ]
  },
  {
   "cell_type": "markdown",
   "id": "0bde0f56",
   "metadata": {},
   "source": [
    "Las primeras 15 columnas son las entradas para nuestro modelo de RFC. La siguiente columna columna es el resultado verídico de nuestras entradas y la última colmuna `Predicción` es la predicción de nuestro modelo con las entradas."
   ]
  },
  {
   "cell_type": "code",
   "execution_count": 333,
   "id": "8a9b234a",
   "metadata": {
    "scrolled": true
   },
   "outputs": [
    {
     "data": {
      "text/html": [
       "<div>\n",
       "<style scoped>\n",
       "    .dataframe tbody tr th:only-of-type {\n",
       "        vertical-align: middle;\n",
       "    }\n",
       "\n",
       "    .dataframe tbody tr th {\n",
       "        vertical-align: top;\n",
       "    }\n",
       "\n",
       "    .dataframe thead th {\n",
       "        text-align: right;\n",
       "    }\n",
       "</style>\n",
       "<table border=\"1\" class=\"dataframe\">\n",
       "  <thead>\n",
       "    <tr style=\"text-align: right;\">\n",
       "      <th></th>\n",
       "      <th>Total ppl</th>\n",
       "      <th>Sex_female</th>\n",
       "      <th>Sex_male</th>\n",
       "      <th>Age Category_Bebe</th>\n",
       "      <th>Age Category_Niño</th>\n",
       "      <th>Age Category_Adolescente</th>\n",
       "      <th>Age Category_Adulto Joven</th>\n",
       "      <th>Age Category_Adulto Mayor</th>\n",
       "      <th>Age Category_Anciano</th>\n",
       "      <th>Pclass_1</th>\n",
       "      <th>Pclass_2</th>\n",
       "      <th>Pclass_3</th>\n",
       "      <th>Embarked_C</th>\n",
       "      <th>Embarked_Q</th>\n",
       "      <th>Embarked_S</th>\n",
       "      <th>Prueba</th>\n",
       "      <th>Predicción</th>\n",
       "    </tr>\n",
       "  </thead>\n",
       "  <tbody>\n",
       "    <tr>\n",
       "      <th>851</th>\n",
       "      <td>7</td>\n",
       "      <td>0</td>\n",
       "      <td>1</td>\n",
       "      <td>1</td>\n",
       "      <td>0</td>\n",
       "      <td>0</td>\n",
       "      <td>0</td>\n",
       "      <td>0</td>\n",
       "      <td>0</td>\n",
       "      <td>0</td>\n",
       "      <td>0</td>\n",
       "      <td>1</td>\n",
       "      <td>0</td>\n",
       "      <td>0</td>\n",
       "      <td>1</td>\n",
       "      <td>0</td>\n",
       "      <td>1</td>\n",
       "    </tr>\n",
       "    <tr>\n",
       "      <th>11</th>\n",
       "      <td>3</td>\n",
       "      <td>1</td>\n",
       "      <td>0</td>\n",
       "      <td>1</td>\n",
       "      <td>0</td>\n",
       "      <td>0</td>\n",
       "      <td>0</td>\n",
       "      <td>0</td>\n",
       "      <td>0</td>\n",
       "      <td>0</td>\n",
       "      <td>0</td>\n",
       "      <td>1</td>\n",
       "      <td>0</td>\n",
       "      <td>0</td>\n",
       "      <td>1</td>\n",
       "      <td>1</td>\n",
       "      <td>1</td>\n",
       "    </tr>\n",
       "    <tr>\n",
       "      <th>423</th>\n",
       "      <td>1</td>\n",
       "      <td>0</td>\n",
       "      <td>1</td>\n",
       "      <td>0</td>\n",
       "      <td>0</td>\n",
       "      <td>0</td>\n",
       "      <td>1</td>\n",
       "      <td>0</td>\n",
       "      <td>0</td>\n",
       "      <td>0</td>\n",
       "      <td>0</td>\n",
       "      <td>1</td>\n",
       "      <td>0</td>\n",
       "      <td>0</td>\n",
       "      <td>1</td>\n",
       "      <td>0</td>\n",
       "      <td>0</td>\n",
       "    </tr>\n",
       "    <tr>\n",
       "      <th>672</th>\n",
       "      <td>2</td>\n",
       "      <td>0</td>\n",
       "      <td>1</td>\n",
       "      <td>0</td>\n",
       "      <td>0</td>\n",
       "      <td>0</td>\n",
       "      <td>1</td>\n",
       "      <td>0</td>\n",
       "      <td>0</td>\n",
       "      <td>1</td>\n",
       "      <td>0</td>\n",
       "      <td>0</td>\n",
       "      <td>0</td>\n",
       "      <td>0</td>\n",
       "      <td>1</td>\n",
       "      <td>0</td>\n",
       "      <td>1</td>\n",
       "    </tr>\n",
       "    <tr>\n",
       "      <th>161</th>\n",
       "      <td>2</td>\n",
       "      <td>0</td>\n",
       "      <td>1</td>\n",
       "      <td>0</td>\n",
       "      <td>0</td>\n",
       "      <td>0</td>\n",
       "      <td>0</td>\n",
       "      <td>1</td>\n",
       "      <td>0</td>\n",
       "      <td>0</td>\n",
       "      <td>0</td>\n",
       "      <td>1</td>\n",
       "      <td>0</td>\n",
       "      <td>0</td>\n",
       "      <td>1</td>\n",
       "      <td>0</td>\n",
       "      <td>0</td>\n",
       "    </tr>\n",
       "    <tr>\n",
       "      <th>420</th>\n",
       "      <td>3</td>\n",
       "      <td>1</td>\n",
       "      <td>0</td>\n",
       "      <td>0</td>\n",
       "      <td>1</td>\n",
       "      <td>0</td>\n",
       "      <td>0</td>\n",
       "      <td>0</td>\n",
       "      <td>0</td>\n",
       "      <td>0</td>\n",
       "      <td>0</td>\n",
       "      <td>1</td>\n",
       "      <td>0</td>\n",
       "      <td>0</td>\n",
       "      <td>1</td>\n",
       "      <td>0</td>\n",
       "      <td>0</td>\n",
       "    </tr>\n",
       "    <tr>\n",
       "      <th>757</th>\n",
       "      <td>1</td>\n",
       "      <td>0</td>\n",
       "      <td>1</td>\n",
       "      <td>0</td>\n",
       "      <td>0</td>\n",
       "      <td>0</td>\n",
       "      <td>1</td>\n",
       "      <td>0</td>\n",
       "      <td>0</td>\n",
       "      <td>0</td>\n",
       "      <td>0</td>\n",
       "      <td>1</td>\n",
       "      <td>0</td>\n",
       "      <td>0</td>\n",
       "      <td>1</td>\n",
       "      <td>0</td>\n",
       "      <td>0</td>\n",
       "    </tr>\n",
       "    <tr>\n",
       "      <th>650</th>\n",
       "      <td>1</td>\n",
       "      <td>1</td>\n",
       "      <td>0</td>\n",
       "      <td>0</td>\n",
       "      <td>0</td>\n",
       "      <td>0</td>\n",
       "      <td>1</td>\n",
       "      <td>0</td>\n",
       "      <td>0</td>\n",
       "      <td>0</td>\n",
       "      <td>0</td>\n",
       "      <td>1</td>\n",
       "      <td>0</td>\n",
       "      <td>0</td>\n",
       "      <td>1</td>\n",
       "      <td>1</td>\n",
       "      <td>1</td>\n",
       "    </tr>\n",
       "    <tr>\n",
       "      <th>87</th>\n",
       "      <td>5</td>\n",
       "      <td>0</td>\n",
       "      <td>1</td>\n",
       "      <td>0</td>\n",
       "      <td>0</td>\n",
       "      <td>1</td>\n",
       "      <td>0</td>\n",
       "      <td>0</td>\n",
       "      <td>0</td>\n",
       "      <td>0</td>\n",
       "      <td>0</td>\n",
       "      <td>1</td>\n",
       "      <td>0</td>\n",
       "      <td>0</td>\n",
       "      <td>1</td>\n",
       "      <td>0</td>\n",
       "      <td>0</td>\n",
       "    </tr>\n",
       "    <tr>\n",
       "      <th>176</th>\n",
       "      <td>3</td>\n",
       "      <td>0</td>\n",
       "      <td>1</td>\n",
       "      <td>0</td>\n",
       "      <td>0</td>\n",
       "      <td>1</td>\n",
       "      <td>0</td>\n",
       "      <td>0</td>\n",
       "      <td>0</td>\n",
       "      <td>0</td>\n",
       "      <td>0</td>\n",
       "      <td>1</td>\n",
       "      <td>0</td>\n",
       "      <td>0</td>\n",
       "      <td>1</td>\n",
       "      <td>0</td>\n",
       "      <td>0</td>\n",
       "    </tr>\n",
       "  </tbody>\n",
       "</table>\n",
       "</div>"
      ],
      "text/plain": [
       "     Total ppl  Sex_female  Sex_male  Age Category_Bebe  Age Category_Niño  \\\n",
       "851          7           0         1                  1                  0   \n",
       "11           3           1         0                  1                  0   \n",
       "423          1           0         1                  0                  0   \n",
       "672          2           0         1                  0                  0   \n",
       "161          2           0         1                  0                  0   \n",
       "420          3           1         0                  0                  1   \n",
       "757          1           0         1                  0                  0   \n",
       "650          1           1         0                  0                  0   \n",
       "87           5           0         1                  0                  0   \n",
       "176          3           0         1                  0                  0   \n",
       "\n",
       "     Age Category_Adolescente  Age Category_Adulto Joven  \\\n",
       "851                         0                          0   \n",
       "11                          0                          0   \n",
       "423                         0                          1   \n",
       "672                         0                          1   \n",
       "161                         0                          0   \n",
       "420                         0                          0   \n",
       "757                         0                          1   \n",
       "650                         0                          1   \n",
       "87                          1                          0   \n",
       "176                         1                          0   \n",
       "\n",
       "     Age Category_Adulto Mayor  Age Category_Anciano  Pclass_1  Pclass_2  \\\n",
       "851                          0                     0         0         0   \n",
       "11                           0                     0         0         0   \n",
       "423                          0                     0         0         0   \n",
       "672                          0                     0         1         0   \n",
       "161                          1                     0         0         0   \n",
       "420                          0                     0         0         0   \n",
       "757                          0                     0         0         0   \n",
       "650                          0                     0         0         0   \n",
       "87                           0                     0         0         0   \n",
       "176                          0                     0         0         0   \n",
       "\n",
       "     Pclass_3  Embarked_C  Embarked_Q  Embarked_S  Prueba  Predicción  \n",
       "851         1           0           0           1       0           1  \n",
       "11          1           0           0           1       1           1  \n",
       "423         1           0           0           1       0           0  \n",
       "672         0           0           0           1       0           1  \n",
       "161         1           0           0           1       0           0  \n",
       "420         1           0           0           1       0           0  \n",
       "757         1           0           0           1       0           0  \n",
       "650         1           0           0           1       1           1  \n",
       "87          1           0           0           1       0           0  \n",
       "176         1           0           0           1       0           0  "
      ]
     },
     "execution_count": 333,
     "metadata": {},
     "output_type": "execute_result"
    }
   ],
   "source": [
    "pred_fin.head(10)"
   ]
  },
  {
   "cell_type": "code",
   "execution_count": 334,
   "id": "84abdf42",
   "metadata": {},
   "outputs": [],
   "source": [
    "pred_fin.to_csv('predicciones_A00571258.csv')"
   ]
  },
  {
   "cell_type": "code",
   "execution_count": 346,
   "id": "659eef81",
   "metadata": {},
   "outputs": [],
   "source": [
    "p = pred_fin.drop(['Total ppl', 'Sex_female','Sex_male','Age Category_Bebe','Age Category_Niño','Age Category_Adolescente','Age Category_Adulto Joven','Age Category_Adulto Mayor','Age Category_Anciano','Pclass_1','Pclass_2','Pclass_3','Embarked_C','Embarked_Q','Embarked_S'],axis=1).to_csv('Resultado final_A00571258.csv')"
   ]
  }
 ],
 "metadata": {
  "kernelspec": {
   "display_name": "Python 3 (ipykernel)",
   "language": "python",
   "name": "python3"
  },
  "language_info": {
   "codemirror_mode": {
    "name": "ipython",
    "version": 3
   },
   "file_extension": ".py",
   "mimetype": "text/x-python",
   "name": "python",
   "nbconvert_exporter": "python",
   "pygments_lexer": "ipython3",
   "version": "3.9.12"
  }
 },
 "nbformat": 4,
 "nbformat_minor": 5
}
